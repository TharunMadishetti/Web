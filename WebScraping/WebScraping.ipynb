{
  "nbformat": 4,
  "nbformat_minor": 0,
  "metadata": {
    "colab": {
      "name": "WebScraping.ipynb",
      "provenance": []
    },
    "kernelspec": {
      "name": "python3",
      "display_name": "Python 3"
    },
    "language_info": {
      "name": "python"
    }
  },
  "cells": [
    {
      "cell_type": "code",
      "execution_count": 2,
      "metadata": {
        "id": "eN6Xu_t23Pmz"
      },
      "outputs": [],
      "source": [
        "import pandas as pd\n",
        "import requests\n",
        "from bs4 import BeautifulSoup "
      ]
    },
    {
      "cell_type": "code",
      "source": [
        "# result=requests.get('https://1lib.in/s/AI%20and%20Machine%20Learning%20for%20Coders').text\n",
        "headers={'User-Agent':'Mozilla/5.0 (Windows NT 6.3; Win 64 ; x64) Apple WeKit /537.36(KHTML , like Gecko) Chrome/80.0.3987.162 Safari/537.36'} \n",
        "result=requests.get('https://myflixer.pw/top-imdb?type=all&page=1').text"
      ],
      "metadata": {
        "id": "Uidiz2I03ebz"
      },
      "execution_count": 3,
      "outputs": []
    },
    {
      "cell_type": "code",
      "source": [
        "res=requests.get('https://myflixer.to/genre/adventure')"
      ],
      "metadata": {
        "id": "l7MqCyX47Nal"
      },
      "execution_count": 66,
      "outputs": []
    },
    {
      "cell_type": "code",
      "source": [
        ""
      ],
      "metadata": {
        "id": "OVa41sjs3jqH"
      },
      "execution_count": 9,
      "outputs": []
    },
    {
      "cell_type": "code",
      "source": [
        "# print(soup)\n",
        "titles=[]\n",
        "dl=[]\n",
        "posters=[]\n",
        "imdb=[]\n",
        "sec=soup.find_all('div',class_='flw-item')\n",
        "\n",
        "for i in sec:\n",
        "  #print(i.find('span',class_='float-right fdi-type').text.strip())\n",
        "  titles.append(i.find('h2').text.strip())\n",
        "  s=i.find('img').get('data-src')\n",
        "  posters.append(s)\n",
        "  s=i.find('a',class_='film-poster-ahref flw-item-tip').get('href').strip()\n",
        "  headers={'User-Agent':'Mozilla/5.0 (Windows NT 6.3; Win 64 ; x64) Apple WeKit /537.36(KHTML , like Gecko) Chrome/80.0.3987.162 Safari/537.36'} \n",
        "  rmov=requests.get('https://myflixer.pw{}'.format(s),headers=headers).text\n",
        "  soupmov=BeautifulSoup(rmov,'html.parser')\n",
        "  imdb.append(soupmov.find('button',class_='btn btn-sm btn-radius btn-warning btn-imdb').text[6:])\n",
        "  \n",
        "\n",
        "print(len(posters),len(titles))\n",
        "\n",
        "  "
      ],
      "metadata": {
        "colab": {
          "base_uri": "https://localhost:8080/"
        },
        "id": "b3YIkjEgNPRz",
        "outputId": "fc36a3aa-9ba5-4bc2-f8fa-2ef586343053"
      },
      "execution_count": 28,
      "outputs": [
        {
          "output_type": "stream",
          "name": "stdout",
          "text": [
            "32 32\n"
          ]
        }
      ]
    },
    {
      "cell_type": "code",
      "source": [
        "imdb"
      ],
      "metadata": {
        "id": "bbMpPYnzcurr"
      },
      "execution_count": null,
      "outputs": []
    },
    {
      "cell_type": "code",
      "source": [
        "# result=requests.get('https://1lib.in/s/AI%20and%20Machine%20Learning%20for%20Coders').text\n",
        "# print(soup)\n",
        "titles=[]\n",
        "dl=[]\n",
        "posters=[]\n",
        "imdb=[]\n",
        "genr=[]\n",
        "ll=1\n",
        "headers={'User-Agent':'Mozilla/5.0 (Windows NT 6.3; Win 64 ; x64) Apple WeKit /537.36(KHTML , like Gecko) Chrome/80.0.3987.162 Safari/537.36'} \n",
        "for i in range(1,7):\n",
        "  result=requests.get('https://myflixer.pw/top-imdb?type=movie&page={}'.format(i),headers=headers).text\n",
        "  soup=BeautifulSoup(result,'html.parser')\n",
        "  sec=soup.find_all('div',class_='flw-item')\n",
        "\n",
        "  for j in sec:\n",
        "    #print(i.find('span',class_='float-right fdi-type').text.strip())\n",
        "    titles.append(j.find('h2').text.strip())\n",
        "    s=j.find('img').get('data-src')\n",
        "    posters.append(s)\n",
        "    s=j.find('a',class_='film-poster-ahref flw-item-tip').get('href').strip()\n",
        "    dl.append('https://myflixer.pw{}'.format(s))\n",
        "    rmov=requests.get('https://myflixer.pw{}'.format(s)).text\n",
        "    soupmov=BeautifulSoup(rmov,'html.parser')\n",
        "    imdb.append(soupmov.find('button',class_='btn btn-sm btn-radius btn-warning btn-imdb').text[6:])\n",
        "    c=0\n",
        "    for k in soupmov.find_all('div',class_='row-line'):\n",
        "      gen=[]\n",
        "      if c==1:\n",
        "          for l in k.find_all('a'):\n",
        "            gen.append(l.text)\n",
        "          genr.append(gen)\n",
        "      c=c+1\n",
        "  print('c=',ll)\n",
        "  ll+=1"
      ],
      "metadata": {
        "colab": {
          "base_uri": "https://localhost:8080/"
        },
        "id": "GIVg__X_CYti",
        "outputId": "e8448263-cb88-4912-d799-ab3940483c1a"
      },
      "execution_count": 82,
      "outputs": [
        {
          "output_type": "stream",
          "name": "stdout",
          "text": [
            "c= 1\n",
            "c= 2\n",
            "c= 3\n",
            "c= 4\n",
            "c= 5\n",
            "c= 6\n"
          ]
        }
      ]
    },
    {
      "cell_type": "code",
      "source": [
        "data={'title':titles,'Link':dl,'imdb rating':imdb,'Genre':genr,'posters':posters}"
      ],
      "metadata": {
        "id": "BgXgrvG2lt1U"
      },
      "execution_count": 83,
      "outputs": []
    },
    {
      "cell_type": "code",
      "source": [
        "print(len(titles),len(dl),len(imdb),len(genr),len(posters))"
      ],
      "metadata": {
        "colab": {
          "base_uri": "https://localhost:8080/"
        },
        "id": "Adge_84jnfdB",
        "outputId": "a6cc01e4-56a5-42d0-b99c-d917456183e9"
      },
      "execution_count": 84,
      "outputs": [
        {
          "output_type": "stream",
          "name": "stdout",
          "text": [
            "192 192 192 192 192\n"
          ]
        }
      ]
    },
    {
      "cell_type": "code",
      "source": [
        "data['Genre']\n",
        "df = pd.DataFrame(data)\n",
        "\n",
        "#convert into excel\n",
        "df.to_excel(\"movies.xlsx\", index=False)\n",
        "print(\"Dictionary converted into excel...\")"
      ],
      "metadata": {
        "colab": {
          "base_uri": "https://localhost:8080/"
        },
        "id": "dHTkpiHBE5Oh",
        "outputId": "eecccc24-de4c-43d4-9b0f-3dfd8878a4ce"
      },
      "execution_count": 85,
      "outputs": [
        {
          "output_type": "stream",
          "name": "stdout",
          "text": [
            "Dictionary converted into excel...\n"
          ]
        }
      ]
    },
    {
      "cell_type": "code",
      "source": [
        "\n",
        "result=requests.get('https://myflixer.pw/top-imdb?type=movie&page=1',headers=headers).text\n",
        "soup=BeautifulSoup(result,'html.parser')\n",
        "sec=soup.find_all('div',class_='flw-item')\n",
        "\n",
        "for j in sec:\n",
        "  s=j.find('a',class_='film-poster-ahref flw-item-tip').get('href').strip()\n",
        "  headers={'User-Agent':'Mozilla/5.0 (Windows NT 6.3; Win 64 ; x64) Apple WeKit /537.36(KHTML , like Gecko) Chrome/80.0.3987.162 Safari/537.36'} \n",
        "  rmov=requests.get('https://myflixer.pw{}'.format(s),headers=headers).text\n",
        "  soupmov=BeautifulSoup(rmov,'html.parser')\n",
        "  c=0\n",
        "  for k in soupmov.find_all('div',class_='row-line'):\n",
        "    gen=[]\n",
        "    if c==1:\n",
        "        for l in k.find_all('a'):\n",
        "          gen.append(l.text)\n",
        "        genr.append(gen)\n",
        "    c=c+1\n",
        "print(genr)\n",
        "print(cast)"
      ],
      "metadata": {
        "colab": {
          "base_uri": "https://localhost:8080/",
          "height": 235
        },
        "id": "7Ml6-bEuFMbb",
        "outputId": "da983c8d-3bc4-4a3c-d55d-72ae4a6d5dd2"
      },
      "execution_count": 58,
      "outputs": [
        {
          "output_type": "error",
          "ename": "IndexError",
          "evalue": "ignored",
          "traceback": [
            "\u001b[0;31m---------------------------------------------------------------------------\u001b[0m",
            "\u001b[0;31mIndexError\u001b[0m                                Traceback (most recent call last)",
            "\u001b[0;32m<ipython-input-58-813ba80ac1f9>\u001b[0m in \u001b[0;36m<module>\u001b[0;34m()\u001b[0m\n\u001b[1;32m     18\u001b[0m         \u001b[0mgenr\u001b[0m\u001b[0;34m.\u001b[0m\u001b[0mappend\u001b[0m\u001b[0;34m(\u001b[0m\u001b[0mgen\u001b[0m\u001b[0;34m)\u001b[0m\u001b[0;34m\u001b[0m\u001b[0;34m\u001b[0m\u001b[0m\n\u001b[1;32m     19\u001b[0m     \u001b[0;32mif\u001b[0m \u001b[0mc\u001b[0m\u001b[0;34m==\u001b[0m\u001b[0;36m2\u001b[0m\u001b[0;34m:\u001b[0m\u001b[0;34m\u001b[0m\u001b[0;34m\u001b[0m\u001b[0m\n\u001b[0;32m---> 20\u001b[0;31m           \u001b[0mcast\u001b[0m\u001b[0;34m.\u001b[0m\u001b[0mappend\u001b[0m\u001b[0;34m(\u001b[0m\u001b[0mk\u001b[0m\u001b[0;34m.\u001b[0m\u001b[0mfind_all\u001b[0m\u001b[0;34m(\u001b[0m\u001b[0;34m'a'\u001b[0m\u001b[0;34m)\u001b[0m\u001b[0;34m[\u001b[0m\u001b[0;36m0\u001b[0m\u001b[0;34m]\u001b[0m\u001b[0;34m.\u001b[0m\u001b[0mtext\u001b[0m\u001b[0;34m)\u001b[0m\u001b[0;34m\u001b[0m\u001b[0;34m\u001b[0m\u001b[0m\n\u001b[0m\u001b[1;32m     21\u001b[0m     \u001b[0mc\u001b[0m\u001b[0;34m=\u001b[0m\u001b[0mc\u001b[0m\u001b[0;34m+\u001b[0m\u001b[0;36m1\u001b[0m\u001b[0;34m\u001b[0m\u001b[0;34m\u001b[0m\u001b[0m\n\u001b[1;32m     22\u001b[0m \u001b[0mprint\u001b[0m\u001b[0;34m(\u001b[0m\u001b[0mgenr\u001b[0m\u001b[0;34m)\u001b[0m\u001b[0;34m\u001b[0m\u001b[0;34m\u001b[0m\u001b[0m\n",
            "\u001b[0;31mIndexError\u001b[0m: list index out of range"
          ]
        }
      ]
    },
    {
      "cell_type": "code",
      "source": [
        "len(genr)"
      ],
      "metadata": {
        "colab": {
          "base_uri": "https://localhost:8080/"
        },
        "id": "zhZVFXMGLo03",
        "outputId": "7624a284-82c8-41fc-80f8-1e1134613558"
      },
      "execution_count": 55,
      "outputs": [
        {
          "output_type": "execute_result",
          "data": {
            "text/plain": [
              "32"
            ]
          },
          "metadata": {},
          "execution_count": 55
        }
      ]
    },
    {
      "cell_type": "code",
      "source": [
        ""
      ],
      "metadata": {
        "id": "BMo23Ew1fmh6"
      },
      "execution_count": null,
      "outputs": []
    }
  ]
}